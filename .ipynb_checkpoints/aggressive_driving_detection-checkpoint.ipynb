{
 "cells": [
  {
   "cell_type": "markdown",
   "metadata": {
    "colab_type": "text",
    "id": "57PyPm0L4UG2"
   },
   "source": [
    "**Raw data has the following columns:**\n",
    "\n",
    "[ CAR_ID | SPEED | RPM | IGNITION | PACKET_SENT_AT ]"
   ]
  },
  {
   "cell_type": "code",
   "execution_count": 0,
   "metadata": {
    "colab": {},
    "colab_type": "code",
    "id": "ZWFDXxrOhiLk"
   },
   "outputs": [],
   "source": [
    "import pandas as pd\n",
    "import numpy as np\n",
    "import matplotlib.pyplot as plt\n",
    "from collections import defaultdict\n",
    "from datetime import datetime, timedelta"
   ]
  },
  {
   "cell_type": "markdown",
   "metadata": {
    "colab_type": "text",
    "id": "OfSfQh7r526U"
   },
   "source": [
    "**Reading data, dropping cars with shuted down engine:**"
   ]
  },
  {
   "cell_type": "code",
   "execution_count": 0,
   "metadata": {
    "colab": {},
    "colab_type": "code",
    "id": "T3d-zvPZh3cA"
   },
   "outputs": [],
   "source": [
    "data = pd.read_csv('Path_to_data', parse_dates=['packet_sent_at'])"
   ]
  },
  {
   "cell_type": "code",
   "execution_count": 0,
   "metadata": {
    "colab": {},
    "colab_type": "code",
    "id": "MsZ84LiKjCq2"
   },
   "outputs": [],
   "source": [
    "data.drop(data.loc[(data.ignition == 0) | (data.rpm == 0)].index, inplace=True)"
   ]
  },
  {
   "cell_type": "markdown",
   "metadata": {
    "colab_type": "text",
    "id": "QSAKcym0wOPb"
   },
   "source": [
    "**Calculating acceleration**"
   ]
  },
  {
   "cell_type": "code",
   "execution_count": 0,
   "metadata": {
    "colab": {},
    "colab_type": "code",
    "id": "i-pyGqpYeKdI"
   },
   "outputs": [],
   "source": [
    "def get_accel(row):\n",
    "  k = 1000/3600.\n",
    "  try:\n",
    "    return ((row.speed - row.speed_before)*k) / \\\n",
    "            (row.packet_sent_at - row.packet_sent_at_before).total_seconds()\n",
    "  except (TypeError):\n",
    "    return np.nan\n",
    "  except (ZeroDivisionError):\n",
    "    return np.nan\n",
    "  "
   ]
  },
  {
   "cell_type": "code",
   "execution_count": 0,
   "metadata": {
    "colab": {
     "base_uri": "https://localhost:8080/",
     "height": 69
    },
    "colab_type": "code",
    "executionInfo": {
     "elapsed": 107999,
     "status": "ok",
     "timestamp": 1568565399573,
     "user": {
      "displayName": "Владимир Грановский",
      "photoUrl": "",
      "userId": "10464964007490948205"
     },
     "user_tz": -180
    },
    "id": "1EOjGJsyvHVe",
    "outputId": "5ba04a6c-d02f-4f84-e889-0d87063d137e"
   },
   "outputs": [
    {
     "name": "stdout",
     "output_type": "stream",
     "text": [
      "332 of 332 processed\n",
      "CPU times: user 1min 47s, sys: 909 ms, total: 1min 47s\n",
      "Wall time: 1min 47s\n"
     ]
    }
   ],
   "source": [
    "%%time\n",
    "import sys\n",
    "\n",
    "cars = defaultdict()\n",
    "i = 0\n",
    "\n",
    "for car in data.ar_id.unique():\n",
    "  cars[car] = data.loc[data.ar_id == car].sort_values(by=['packet_sent_at'])\n",
    "  cars[car]['speed_before'] = np.nan\n",
    "  cars[car]['speed_before'] = cars[car].speed.shift(1)\n",
    "  cars[car]['packet_sent_at_shifted'] = np.nan\n",
    "  cars[car]['packet_sent_at_before'] = cars[car].packet_sent_at.shift(1)\n",
    "  cars[car]['accel'] = cars[car].apply(get_accel, axis=1)\n",
    "  \n",
    "  i += 1\n",
    "  sys.stdout.write('\\r')\n",
    "  sys.stdout.write('{} of {} processed'.format(i, len(data.ar_id.unique())))\n",
    "  sys.stdout.flush()\n"
   ]
  },
  {
   "cell_type": "markdown",
   "metadata": {
    "colab_type": "text",
    "id": "8qCiWZVMwaur"
   },
   "source": [
    "**Proposed metric for driving style evaluating:** *sum( |accel| > thresh ) / distance*\n"
   ]
  },
  {
   "cell_type": "code",
   "execution_count": 0,
   "metadata": {
    "colab": {},
    "colab_type": "code",
    "id": "b-2tsdN8s9it"
   },
   "outputs": [],
   "source": [
    "def evaluate_score(car_data, thresh):\n",
    "  score = car_data.loc[abs(car_data.accel) > thresh].shape[0]\n",
    "  return (score / (car_data.mileage.max() - car_data.mileage.min()))"
   ]
  },
  {
   "cell_type": "code",
   "execution_count": 0,
   "metadata": {
    "colab": {
     "base_uri": "https://localhost:8080/",
     "height": 35
    },
    "colab_type": "code",
    "executionInfo": {
     "elapsed": 3661,
     "status": "ok",
     "timestamp": 1568481709700,
     "user": {
      "displayName": "Владимир Грановский",
      "photoUrl": "",
      "userId": "10464964007490948205"
     },
     "user_tz": -180
    },
    "id": "U8G14mPD0d_x",
    "outputId": "15e42b41-3250-478d-c486-8222efe06d7b"
   },
   "outputs": [
    {
     "name": "stdout",
     "output_type": "stream",
     "text": [
      "332 of 332 processed"
     ]
    }
   ],
   "source": [
    "threshold = 5\n",
    "scores = pd.DataFrame(index=range(len(cars.keys())),\n",
    "                      columns=['car_id', 'score'])\n",
    "scores.car_id = cars.keys()\n",
    "i = 0\n",
    "for car in cars.keys():\n",
    "  scores.at[scores.loc[scores.car_id == car].index, 'score'] = evaluate_score(cars[car], threshold)\n",
    "\n",
    "  i += 1\n",
    "  sys.stdout.write('\\r')\n",
    "  sys.stdout.write('{} of {} processed'.format(i, len(cars.keys())))\n",
    "  sys.stdout.flush()\n",
    "\n",
    "scores.score = scores.score.astype('float32')"
   ]
  },
  {
   "cell_type": "code",
   "execution_count": 0,
   "metadata": {
    "colab": {
     "base_uri": "https://localhost:8080/",
     "height": 367
    },
    "colab_type": "code",
    "executionInfo": {
     "elapsed": 851,
     "status": "ok",
     "timestamp": 1568482088412,
     "user": {
      "displayName": "Владимир Грановский",
      "photoUrl": "",
      "userId": "10464964007490948205"
     },
     "user_tz": -180
    },
    "id": "ebcquLNzrWpa",
    "outputId": "0fee810b-6545-495b-f580-388967d1bb9e"
   },
   "outputs": [
    {
     "data": {
      "text/plain": [
       "Text(0.5,1,'Driving score histogram')"
      ]
     },
     "execution_count": 54,
     "metadata": {
      "tags": []
     },
     "output_type": "execute_result"
    },
    {
     "data": {
      "image/png": "[encoded data removed]",
      "text/plain": [
       "<Figure size 360x360 with 1 Axes>"
      ]
     },
     "metadata": {
      "tags": []
     },
     "output_type": "display_data"
    }
   ],
   "source": [
    "fig, ax = plt.subplots(1, figsize=(5, 5))\n",
    "scores.score.hist(ax=ax)\n",
    "ax.set_xlabel('Score')\n",
    "ax.set_ylabel('Cars amount')\n",
    "ax.set_title('Driving score histogram')"
   ]
  },
  {
   "cell_type": "markdown",
   "metadata": {
    "colab_type": "text",
    "id": "e1DTPT_IrWPC"
   },
   "source": [
    "**Agregating data by mean and std**"
   ]
  },
  {
   "cell_type": "code",
   "execution_count": 0,
   "metadata": {
    "colab": {},
    "colab_type": "code",
    "id": "WPRsozSxy1Ri"
   },
   "outputs": [],
   "source": [
    "agr_data = pd.DataFrame(index=range(len(cars.keys())),\n",
    "                        columns=['car_id', 'spd_mean', 'rpm_mean', 'spd_std', 'rpm_std'])\n",
    "i = 0\n",
    "for car_id in cars.keys():\n",
    "  row = [car_id,\n",
    "         float(cars[car_id].speed.mean()), float(cars[car_id].rpm.mean()),\n",
    "         float(cars[car_id].speed.std()),  float(cars[car_id].rpm.std())]\n",
    "  agr_data.iloc[i] = row\n",
    "  i += 1\n",
    "  "
   ]
  },
  {
   "cell_type": "code",
   "execution_count": 0,
   "metadata": {
    "colab": {},
    "colab_type": "code",
    "id": "dWIUEeee-feJ"
   },
   "outputs": [],
   "source": [
    "agr_data.spd_mean = agr_data.spd_mean.astype('float32')\n",
    "agr_data.rpm_mean = agr_data.rpm_mean.astype('float32')\n",
    "agr_data.spd_std  = agr_data.spd_std.astype('float32')\n",
    "agr_data.rpm_std  = agr_data.rpm_std.astype('float32')"
   ]
  },
  {
   "cell_type": "code",
   "execution_count": 0,
   "metadata": {
    "colab": {
     "base_uri": "https://localhost:8080/",
     "height": 896
    },
    "colab_type": "code",
    "executionInfo": {
     "elapsed": 1610,
     "status": "ok",
     "timestamp": 1568482108750,
     "user": {
      "displayName": "Владимир Грановский",
      "photoUrl": "",
      "userId": "10464964007490948205"
     },
     "user_tz": -180
    },
    "id": "zr0brt4o8z3e",
    "outputId": "6e7426d6-1ef5-4ea4-e2e4-30ec79db686c"
   },
   "outputs": [
    {
     "data": {
      "text/plain": [
       "Text(0.5,1,'Standard deviation of rpm')"
      ]
     },
     "execution_count": 57,
     "metadata": {
      "tags": []
     },
     "output_type": "execute_result"
    },
    {
     "data": {
      "image/png": "[encoded data removed]",
      "text/plain": [
       "<Figure size 1080x1080 with 4 Axes>"
      ]
     },
     "metadata": {
      "tags": []
     },
     "output_type": "display_data"
    }
   ],
   "source": [
    "fig, ax = plt.subplots(2, 2, figsize=(15, 15))\n",
    "ax[0, 0].hist(agr_data.spd_mean, bins=25)\n",
    "ax[0, 0].set_title('Mean speed')\n",
    "ax[0, 1].hist(agr_data.spd_std, bins=25)\n",
    "ax[0, 1].set_title('Standard deviation of speed')\n",
    "ax[1, 0].hist(agr_data.rpm_mean, bins=25)\n",
    "ax[1, 0].set_title('Mean rpm')\n",
    "ax[1, 1].hist(agr_data.rpm_std, bins=25)\n",
    "ax[1, 1].set_title('Standard deviation of rpm')\n"
   ]
  }
 ],
 "metadata": {
  "colab": {
   "collapsed_sections": [],
   "name": "aggressive_driving_detection.ipynb",
   "provenance": [
    {
     "file_id": "1iCALx8b1KukDeOvNb9YtWgOPzJeCAHVo",
     "timestamp": 1567944560685
    }
   ]
  },
  "kernelspec": {
   "display_name": "Python 2",
   "language": "python",
   "name": "python2"
  },
  "language_info": {
   "codemirror_mode": {
    "name": "ipython",
    "version": 2
   },
   "file_extension": ".py",
   "mimetype": "text/x-python",
   "name": "python",
   "nbconvert_exporter": "python",
   "pygments_lexer": "ipython2",
   "version": "2.7.15"
  }
 },
 "nbformat": 4,
 "nbformat_minor": 1
}
